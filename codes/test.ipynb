{
 "cells": [
  {
   "cell_type": "code",
   "execution_count": 1,
   "metadata": {},
   "outputs": [],
   "source": [
    "import numpy as np\n",
    "from typing import Iterable, Union\n",
    "import matplotlib.pyplot as plt"
   ]
  },
  {
   "cell_type": "code",
   "execution_count": 13,
   "metadata": {},
   "outputs": [],
   "source": [
    "class Vec2:\n",
    "    def __init__(self, x: float, y: float):\n",
    "        self.__x = x\n",
    "        self.__y = y\n",
    "\n",
    "    @property\n",
    "    def x(self) -> float:\n",
    "        return self.__x\n",
    "\n",
    "    @property\n",
    "    def y(self) -> float:\n",
    "        return self.__y\n",
    "\n",
    "    @x.setter\n",
    "    def x(self, x: float):\n",
    "        self.__x = float(x)\n",
    "\n",
    "    @y.setter\n",
    "    def y(self, y: float):\n",
    "        self.__y = float(y)\n",
    "\n",
    "    def __getitem__(self, index: int) -> float:\n",
    "        if index == 0:\n",
    "            return self.x\n",
    "        elif index == 1:\n",
    "            return self.y\n",
    "        else:\n",
    "            raise IndexError(\"index 0, 1 are only available\")\n",
    "\n",
    "    def __add__(self, other: \"Vec2\") -> \"Vec2\":\n",
    "        return Vec2(self.x + other.x, self.y + other.y)\n",
    "\n",
    "    def __mul__(self, other: float) -> \"Vec2\":\n",
    "        return Vec2(self.x * other, self.y * other)\n",
    "\n",
    "    def __rmul__(self, other: float) -> \"Vec2\":\n",
    "        return self.__mul__(other)\n",
    "\n",
    "    def __sub__(self, other: \"Vec2\") -> \"Vec2\":\n",
    "        return self.__add__(other * -1)\n",
    "\n",
    "    def __truediv__(self, other: float) -> \"Vec2\":\n",
    "        return self.__mul__(1 / other)\n",
    "\n",
    "    def dot(self, other: \"Vec2\") -> float:\n",
    "        return self.x * other.x + self.y * other.y\n",
    "\n",
    "    def rotate_rad(self, angle: float) -> \"Vec2\":\n",
    "        return Vec2(\n",
    "            self.x * np.cos(angle) - self.y * np.sin(angle),\n",
    "            self.x * np.sin(angle) + self.y * np.cos(angle),\n",
    "        )\n",
    "\n",
    "    def rotate_deg(self, angle: float) -> \"Vec2\":\n",
    "        return self.rotate_rad(np.deg2rad(angle))\n",
    "\n",
    "    @property\n",
    "    def norm(self) -> float:\n",
    "        return np.sqrt(self.dot(self))\n",
    "\n",
    "    @property\n",
    "    def theta(self) -> float:\n",
    "        return np.arctan2(self.y, self.x)\n",
    "\n",
    "    @property\n",
    "    def theta_deg(self) -> float:\n",
    "        return np.rad2deg(self.theta)\n",
    "\n",
    "    @property\n",
    "    def unit(self) -> \"Vec2\":\n",
    "        return self / self.norm\n",
    "\n",
    "    def distance(self, other: \"Vec2\") -> float:\n",
    "        return (self - other).norm\n",
    "\n",
    "    def angle_between_rad(self, other: \"Vec2\") -> float:\n",
    "        return np.arccos(self.dot(other) / (self.norm * other.norm))\n",
    "\n",
    "    def angle_between_deg(self, other: \"Vec2\") -> float:\n",
    "        return np.rad2deg(self.angle_between_rad(other))\n",
    "\n",
    "\n",
    "class Vec2Arr(list):\n",
    "    def __init__(self, arr: np.ndarray | Iterable[Vec2]):\n",
    "        if isinstance(arr, np.ndarray):\n",
    "            if arr.shape[1] != 2:\n",
    "                raise ValueError(\"arr must be a 2D array\")\n",
    "            super().__init__([Vec2(x, y) for x, y in arr])\n",
    "        elif isinstance(arr, Iterable) and all([isinstance(v, Vec2) for v in arr]):\n",
    "            super().__init__(arr)\n",
    "        else:\n",
    "            TypeError(\"arr must be a 2D array or an iterable of Vec2\")\n",
    "\n",
    "    def append(self, vec: Vec2):\n",
    "        if not isinstance(vec, Vec2):\n",
    "            raise TypeError(\"vec must be a Vec2\")\n",
    "        super().append(vec)\n",
    "\n",
    "    def append_tail(self, vec: Vec2):\n",
    "        self.append(self[-1] + vec)\n",
    "\n",
    "\n",
    "    def offset(self, distance: float, *, direction: str = \"lefthand\") -> \"Vec2Arr\":\n",
    "        \"\"\"offset all points by distance\"\"\"\n",
    "        angle = np.pi / 2 if direction == \"lefthand\" else -np.pi / 2\n",
    "        ret = []\n",
    "        for i in range(len(self)):\n",
    "            j = max(i - 1, 0)\n",
    "            k = min(i + 1, len(self) - 1)\n",
    "            ret.append(self[i] + (self[k] - self[j]).unit.rotate_rad(angle) * distance)\n",
    "        return Vec2Arr(ret)"
   ]
  },
  {
   "cell_type": "code",
   "execution_count": 11,
   "metadata": {},
   "outputs": [
    {
     "name": "stdout",
     "output_type": "stream",
     "text": [
      "1 1 1.4142135623730951 45.0 <__main__.Vec2 object at 0x7f7e2d7827a0>\n"
     ]
    }
   ],
   "source": [
    "v = Vec2(1, 1)\n",
    "print(v.x, v.y, v.norm, v.theta_deg, v.unit)"
   ]
  },
  {
   "cell_type": "code",
   "execution_count": 14,
   "metadata": {},
   "outputs": [
    {
     "data": {
      "text/plain": [
       "<matplotlib.legend.Legend at 0x7fdb6cec4c40>"
      ]
     },
     "execution_count": 14,
     "metadata": {},
     "output_type": "execute_result"
    },
    {
     "data": {
      "image/png": "[encoded data removed]",
      "text/plain": [
       "<Figure size 640x480 with 1 Axes>"
      ]
     },
     "metadata": {},
     "output_type": "display_data"
    }
   ],
   "source": [
    "x = np.linspace(0, 2 * np.pi, 361)\n",
    "y = np.sin(x)\n",
    "arr = Vec2Arr(np.vstack([x, y]).T)\n",
    "offset_arr = arr.offset(-1, direction=\"lefthand\")\n",
    "nda = np.array([[v.x, v.y] for v in offset_arr])\n",
    "\n",
    "plt.plot(x, y, label=\"original\")\n",
    "plt.plot(nda[:, 0], nda[:, 1], label=\"offset\")\n",
    "plt.legend()"
   ]
  },
  {
   "cell_type": "code",
   "execution_count": null,
   "metadata": {},
   "outputs": [],
   "source": []
  }
 ],
 "metadata": {
  "kernelspec": {
   "display_name": ".venv",
   "language": "python",
   "name": "python3"
  },
  "language_info": {
   "codemirror_mode": {
    "name": "ipython",
    "version": 3
   },
   "file_extension": ".py",
   "mimetype": "text/x-python",
   "name": "python",
   "nbconvert_exporter": "python",
   "pygments_lexer": "ipython3",
   "version": "3.10.6"
  },
  "orig_nbformat": 4
 },
 "nbformat": 4,
 "nbformat_minor": 2
}
